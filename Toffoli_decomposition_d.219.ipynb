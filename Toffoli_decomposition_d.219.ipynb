{
 "cells": [
  {
   "cell_type": "code",
   "execution_count": null,
   "metadata": {},
   "outputs": [
    {
     "ename": "",
     "evalue": "",
     "output_type": "error",
     "traceback": [
      "\u001b[1;31mThe kernel failed to start as the module 'qiskit-terra' could not be imported.\n",
      "\u001b[1;31mClick <a href='https://aka.ms/kernelFailuresModuleImportErr'>here</a> for more info."
     ]
    }
   ],
   "source": [
    "import qiskit \n",
    "from qiskit import QuantumCircuit\n",
    "from qiskit.circuit.library import MCXGate\n",
    "gate = MCXGate(6)\n",
    "gatte = MCXGate(7)\n",
    "gattte = MCXGate(4)\n",
    "gates= MCXGate(3)\n",
    "circuit = QuantumCircuit(20)\n",
    "\n",
    "\n",
    "circuit.ccx(0,1,16)\n",
    "circuit.ccx(2,16,17)\n",
    "circuit.cx(3,18)\n",
    "circuit.ccx(4,5,19)\n",
    "circuit.append(gates,[19,18,17,15])\n",
    "circuit.ccx(4,5,19)\n",
    "circuit.cx(3,18)\n",
    "circuit.ccx(2,16,17)\n",
    "circuit.ccx(0,1,16)\n",
    "\n",
    "\n",
    "\n",
    "#circuit.append(gate, [0, 1, 2,3,4,5,15])\n",
    "circuit.append(gates,[6,7,15,16])\n",
    "circuit.append(gates,[8,9,16,17])\n",
    "circuit.ccx(10,11,18)\n",
    "circuit.ccx(12,13,19)\n",
    "circuit.append(gates,[19,18,17,14])\n",
    "circuit.ccx(12,13,19)\n",
    "circuit.ccx(10,11,18)\n",
    "circuit.append(gates,[8,9,16,17])\n",
    "circuit.append(gates,[6,7,15,16])\n",
    "#circuit.append(gate, [0, 1, 2,3,4,5,15])\n",
    "\n",
    "\n",
    "circuit.ccx(0,1,16)\n",
    "circuit.ccx(2,16,17)\n",
    "circuit.cx(3,18)\n",
    "circuit.ccx(4,5,19)\n",
    "circuit.append(gates,[19,18,17,15])\n",
    "circuit.ccx(4,5,19)\n",
    "circuit.cx(3,18)\n",
    "circuit.ccx(2,16,17)\n",
    "circuit.ccx(0,1,16)\n",
    "\n",
    "\n",
    "\n",
    "\n",
    "\n",
    "#print(circuit.decompose().decompose().decompose().decompose().qasm())\n",
    "print(circuit.decompose().decompose().decompose().decompose().depth())\n",
    "print(circuit.decompose().decompose().decompose().decompose().count_ops())\n",
    "#circuit.decompose().decompose().decompose().decompose().draw()   # to see fully decomposed circuit\n",
    "circuit.draw()  #reduced circuit"
   ]
  }
 ],
 "metadata": {
  "interpreter": {
   "hash": "af0f935cb287480f7f5abbc1a697d5b742b7b9f6c94ce2b387e43fdb9b07028c"
  },
  "kernelspec": {
   "display_name": "Python 3.8.8 ('base')",
   "language": "python",
   "name": "python3"
  },
  "language_info": {
   "codemirror_mode": {
    "name": "ipython",
    "version": 3
   },
   "file_extension": ".py",
   "mimetype": "text/x-python",
   "name": "python",
   "nbconvert_exporter": "python",
   "pygments_lexer": "ipython3",
   "version": "3.9.1"
  },
  "orig_nbformat": 4
 },
 "nbformat": 4,
 "nbformat_minor": 2
}
